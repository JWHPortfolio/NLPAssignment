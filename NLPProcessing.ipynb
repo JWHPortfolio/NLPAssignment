{
 "cells": [
  {
   "cell_type": "markdown",
   "id": "050206c0",
   "metadata": {},
   "source": [
    "## Sentiment Web service.  \n",
    "* Use the Restaurant_Reviews.tsv for data\n",
    "* Convert the various text strings into useful vectors for training and inference.  Inference receives a text phrase from a web GET."
   ]
  },
  {
   "cell_type": "markdown",
   "id": "4c1c4098",
   "metadata": {},
   "source": [
    "## Assignment \n",
    "1. Populate the natural_language_processing.py following the hints in the comments\n",
    "1. Integrate with natural_language_processing_Service.py\n",
    "1. Test locally\n",
    "1. Build requirements.txt and Dockerfile\n",
    "1. Build a docker image\n",
    "1. Test Locally\n",
    "1. Push to docker hub\n",
    "1. Populate readme for both github and docker hub (with example docker commands)\n",
    "1. Populate this notebook with working output and a summary that contains an impression of the model and how to improve it.\n",
    "* Check the rubric in canvas to make sure you understand the requirements and the assocated weights for your grade"
   ]
  },
  {
   "cell_type": "code",
   "execution_count": null,
   "id": "c3cc0636",
   "metadata": {},
   "outputs": [],
   "source": [
    "from natural_language_processing import Sentiment\n",
    "se = Sentiment()"
   ]
  },
  {
   "cell_type": "markdown",
   "id": "7c7f06a4",
   "metadata": {},
   "source": [
    "### Test Model first - Get stats"
   ]
  },
  {
   "cell_type": "code",
   "execution_count": null,
   "id": "9f3a21d0",
   "metadata": {},
   "outputs": [],
   "source": [
    "se.model_stats()"
   ]
  },
  {
   "cell_type": "markdown",
   "id": "da8b7582",
   "metadata": {},
   "source": [
    "### Get Determination"
   ]
  },
  {
   "cell_type": "code",
   "execution_count": null,
   "id": "0734b57a",
   "metadata": {},
   "outputs": [],
   "source": [
    "se.model_infer( )"
   ]
  },
  {
   "cell_type": "markdown",
   "id": "fdcb5300",
   "metadata": {},
   "source": [
    "### Start up the service"
   ]
  },
  {
   "cell_type": "code",
   "execution_count": null,
   "id": "e7037761",
   "metadata": {},
   "outputs": [],
   "source": [
    "!python natural_language_processing_Service.py"
   ]
  },
  {
   "cell_type": "markdown",
   "id": "f80bdbe1",
   "metadata": {},
   "source": [
    "Try out the links \n",
    "* [stats](http://fillin)\n",
    "* [determination](http://fillin)"
   ]
  },
  {
   "cell_type": "markdown",
   "id": "3552c40d",
   "metadata": {},
   "source": [
    "### You must kill the kernel to try again for the port stays locked to the current kernel"
   ]
  },
  {
   "cell_type": "markdown",
   "id": "88815bab",
   "metadata": {},
   "source": [
    "# Summary\n",
    "* Assignment and Model Results\n",
    "* Techniques to improve the results"
   ]
  },
  {
   "cell_type": "markdown",
   "id": "2278af24",
   "metadata": {},
   "source": [
    "PUT YOUR ANSWERS HERE which could include additional cells with working code examples"
   ]
  },
  {
   "cell_type": "code",
   "execution_count": null,
   "id": "b2a49c28",
   "metadata": {},
   "outputs": [],
   "source": []
  }
 ],
 "metadata": {
  "kernelspec": {
   "display_name": "Python 3 (ipykernel)",
   "language": "python",
   "name": "python3"
  },
  "language_info": {
   "codemirror_mode": {
    "name": "ipython",
    "version": 3
   },
   "file_extension": ".py",
   "mimetype": "text/x-python",
   "name": "python",
   "nbconvert_exporter": "python",
   "pygments_lexer": "ipython3",
   "version": "3.10.6"
  }
 },
 "nbformat": 4,
 "nbformat_minor": 5
}
